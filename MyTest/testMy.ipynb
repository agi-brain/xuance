{
 "cells": [
  {
   "cell_type": "code",
   "execution_count": 5,
   "id": "b1c432ebe9e5e329",
   "metadata": {
    "collapsed": true,
    "ExecuteTime": {
     "end_time": "2024-03-14T13:57:12.885300700Z",
     "start_time": "2024-03-14T13:57:12.878300Z"
    }
   },
   "outputs": [],
   "source": [
    "import argparse\n",
    "\n",
    "def parse_args():\n",
    "    parser = argparse.ArgumentParser(\"Example of XuanCe.\")\n",
    "    parser.add_argument(\"--method\", type=str, default=\"ppo\")\n",
    "    parser.add_argument(\"--env\", type=str, default=\"Box2D\")\n",
    "    parser.add_argument(\"--env-id\", type=str, default=\"LunarLander-v2\")\n",
    "    # parser.add_argument(\"--env-id\", type=str, default=\"Pendulum-v1\")\n",
    "    parser.add_argument(\"--test\", type=int, default=0)\n",
    "    parser.add_argument(\"--device\", type=str, default=\"cuda\")\n",
    "    parser.add_argument(\"--benchmark\", type=int, default=1)\n",
    "    parser.add_argument(\"--config\", type=str, default=\"./configs/lular.yaml\")\n",
    "\n",
    "    return parser.parse_known_args()[0]"
   ]
  },
  {
   "cell_type": "code",
   "execution_count": 6,
   "outputs": [],
   "source": [
    "\n",
    "import os\n",
    "from copy import deepcopy\n",
    "import numpy as np\n",
    "import torch.optim\n",
    "\n",
    "from xuance.common import space2shape\n",
    "from xuance.environment import make_envs\n",
    "from xuance.torch.utils.operations import set_seed\n",
    "from xuance.torch.utils import ActivationFunctions\n",
    "from xuance import get_arguments"
   ],
   "metadata": {
    "collapsed": false,
    "ExecuteTime": {
     "end_time": "2024-03-14T13:57:15.711299900Z",
     "start_time": "2024-03-14T13:57:12.883302800Z"
    }
   },
   "id": "initial_id"
  },
  {
   "cell_type": "code",
   "execution_count": 7,
   "outputs": [
    {
     "ename": "FileNotFoundError",
     "evalue": "[Errno 2] No such file or directory: 'E:\\\\project\\\\github\\\\xuance\\\\xuance\\\\configs\\\\best_Lunar_C51.yaml'",
     "output_type": "error",
     "traceback": [
      "\u001B[1;31m---------------------------------------------------------------------------\u001B[0m",
      "\u001B[1;31mFileNotFoundError\u001B[0m                         Traceback (most recent call last)",
      "Cell \u001B[1;32mIn[7], line 2\u001B[0m\n\u001B[0;32m      1\u001B[0m parser \u001B[38;5;241m=\u001B[39m parse_args()\n\u001B[1;32m----> 2\u001B[0m args \u001B[38;5;241m=\u001B[39m \u001B[43mget_arguments\u001B[49m\u001B[43m(\u001B[49m\u001B[43mmethod\u001B[49m\u001B[38;5;241;43m=\u001B[39;49m\u001B[43mparser\u001B[49m\u001B[38;5;241;43m.\u001B[39;49m\u001B[43mmethod\u001B[49m\u001B[43m,\u001B[49m\n\u001B[0;32m      3\u001B[0m \u001B[43m                 \u001B[49m\u001B[43menv\u001B[49m\u001B[38;5;241;43m=\u001B[39;49m\u001B[43mparser\u001B[49m\u001B[38;5;241;43m.\u001B[39;49m\u001B[43menv\u001B[49m\u001B[43m,\u001B[49m\n\u001B[0;32m      4\u001B[0m \u001B[43m                 \u001B[49m\u001B[43menv_id\u001B[49m\u001B[38;5;241;43m=\u001B[39;49m\u001B[43mparser\u001B[49m\u001B[38;5;241;43m.\u001B[39;49m\u001B[43menv_id\u001B[49m\u001B[43m,\u001B[49m\n\u001B[0;32m      5\u001B[0m \u001B[43m                 \u001B[49m\u001B[43mconfig_path\u001B[49m\u001B[38;5;241;43m=\u001B[39;49m\u001B[43mparser\u001B[49m\u001B[38;5;241;43m.\u001B[39;49m\u001B[43mconfig\u001B[49m\u001B[43m,\u001B[49m\n\u001B[0;32m      6\u001B[0m \u001B[43m                 \u001B[49m\u001B[43mparser_args\u001B[49m\u001B[38;5;241;43m=\u001B[39;49m\u001B[43mparser\u001B[49m\u001B[43m)\u001B[49m\n",
      "File \u001B[1;32mE:\\project\\github\\xuance\\xuance\\common\\common_tools.py:71\u001B[0m, in \u001B[0;36mget_arguments\u001B[1;34m(method, env, env_id, config_path, parser_args)\u001B[0m\n\u001B[0;32m     68\u001B[0m config_path_default \u001B[38;5;241m=\u001B[39m os\u001B[38;5;241m.\u001B[39mpath\u001B[38;5;241m.\u001B[39mjoin(main_path_package, \u001B[38;5;124m\"\u001B[39m\u001B[38;5;124mconfigs\u001B[39m\u001B[38;5;124m\"\u001B[39m)\n\u001B[0;32m     70\u001B[0m \u001B[38;5;250m\u001B[39m\u001B[38;5;124;03m''' get the arguments from xuance/config/best_Lunar_C51.yaml '''\u001B[39;00m\n\u001B[1;32m---> 71\u001B[0m config_basic \u001B[38;5;241m=\u001B[39m \u001B[43mget_config\u001B[49m\u001B[43m(\u001B[49m\u001B[43mos\u001B[49m\u001B[38;5;241;43m.\u001B[39;49m\u001B[43mpath\u001B[49m\u001B[38;5;241;43m.\u001B[39;49m\u001B[43mjoin\u001B[49m\u001B[43m(\u001B[49m\u001B[43mconfig_path_default\u001B[49m\u001B[43m,\u001B[49m\u001B[43m \u001B[49m\u001B[38;5;124;43m\"\u001B[39;49m\u001B[38;5;124;43mbest_Lunar_C51.yaml\u001B[39;49m\u001B[38;5;124;43m\"\u001B[39;49m\u001B[43m)\u001B[49m\u001B[43m)\u001B[49m\n\u001B[0;32m     73\u001B[0m \u001B[38;5;250m\u001B[39m\u001B[38;5;124;03m''' get the arguments from, e.g., xuance/config/dqn/box2d/CarRacing-v2.yaml '''\u001B[39;00m\n\u001B[0;32m     74\u001B[0m \u001B[38;5;28;01mif\u001B[39;00m \u001B[38;5;28mtype\u001B[39m(method) \u001B[38;5;241m==\u001B[39m \u001B[38;5;28mlist\u001B[39m:  \u001B[38;5;66;03m# for different groups of MARL algorithms.\u001B[39;00m\n",
      "File \u001B[1;32mE:\\project\\github\\xuance\\xuance\\common\\common_tools.py:46\u001B[0m, in \u001B[0;36mget_config\u001B[1;34m(file_dir)\u001B[0m\n\u001B[0;32m     38\u001B[0m \u001B[38;5;28;01mdef\u001B[39;00m \u001B[38;5;21mget_config\u001B[39m(file_dir):\n\u001B[0;32m     39\u001B[0m \u001B[38;5;250m    \u001B[39m\u001B[38;5;124;03m\"\"\"Get dict variable from a YAML file.\u001B[39;00m\n\u001B[0;32m     40\u001B[0m \u001B[38;5;124;03m    Args:\u001B[39;00m\n\u001B[0;32m     41\u001B[0m \u001B[38;5;124;03m        file_dir: the directory of the YAML file.\u001B[39;00m\n\u001B[1;32m   (...)\u001B[0m\n\u001B[0;32m     44\u001B[0m \u001B[38;5;124;03m        config_dict: the keys and corresponding values in the YAML file.\u001B[39;00m\n\u001B[0;32m     45\u001B[0m \u001B[38;5;124;03m    \"\"\"\u001B[39;00m\n\u001B[1;32m---> 46\u001B[0m     \u001B[38;5;28;01mwith\u001B[39;00m \u001B[38;5;28;43mopen\u001B[39;49m\u001B[43m(\u001B[49m\u001B[43mfile_dir\u001B[49m\u001B[43m,\u001B[49m\u001B[43m \u001B[49m\u001B[38;5;124;43m\"\u001B[39;49m\u001B[38;5;124;43mr\u001B[39;49m\u001B[38;5;124;43m\"\u001B[39;49m\u001B[43m)\u001B[49m \u001B[38;5;28;01mas\u001B[39;00m f:\n\u001B[0;32m     47\u001B[0m         \u001B[38;5;28;01mtry\u001B[39;00m:\n\u001B[0;32m     48\u001B[0m             config_dict \u001B[38;5;241m=\u001B[39m yaml\u001B[38;5;241m.\u001B[39mload(f, Loader\u001B[38;5;241m=\u001B[39myaml\u001B[38;5;241m.\u001B[39mFullLoader)\n",
      "\u001B[1;31mFileNotFoundError\u001B[0m: [Errno 2] No such file or directory: 'E:\\\\project\\\\github\\\\xuance\\\\xuance\\\\configs\\\\best_Lunar_C51.yaml'"
     ]
    }
   ],
   "source": [
    "parser = parse_args()\n",
    "args = get_arguments(method=parser.method,\n",
    "                 env=parser.env,\n",
    "                 env_id=parser.env_id,\n",
    "                 config_path=parser.config,\n",
    "                 parser_args=parser)\n"
   ],
   "metadata": {
    "collapsed": false,
    "ExecuteTime": {
     "end_time": "2024-03-14T13:57:15.749306700Z",
     "start_time": "2024-03-14T13:57:15.713303500Z"
    }
   },
   "id": "fc8b4ae8e9c9abd9"
  },
  {
   "cell_type": "code",
   "execution_count": null,
   "outputs": [],
   "source": [
    "import os\n",
    "from copy import deepcopy\n",
    "import numpy as np\n",
    "import torch.optim\n",
    "\n",
    "from xuance.common import space2shape\n",
    "from xuance.environment import make_envs\n",
    "from xuance.torch.utils.operations import set_seed\n",
    "from xuance.torch.utils import ActivationFunctions\n",
    "\n",
    "def run(args):\n",
    "    agent_name = args.agent  # get the name of Agent.\n",
    "    set_seed(args.seed)  # set random seed.\n",
    "\n",
    "    # prepare directories for results\n",
    "    args.model_dir = os.path.join(os.getcwd(), args.model_dir, args.env_id)  # the path for saved model.\n",
    "    args.log_dir = os.path.join(args.log_dir, args.env_id)  # the path for logger file.\n",
    "\n",
    "    # build environments\n",
    "    envs = make_envs(args)  # create simulation environments\n",
    "    args.observation_space = envs.observation_space  # get observation space\n",
    "    args.action_space = envs.action_space  # get action space\n",
    "    n_envs = envs.num_envs  # get the number of vectorized environments.\n",
    "    \n",
    "    # prepare representation\n",
    "    from xuance.torch.representations import Basic_MLP\n",
    "    representation = Basic_MLP(input_shape=space2shape(args.observation_space),\n",
    "                               hidden_sizes=args.representation_hidden_size,\n",
    "                               normalize=None,\n",
    "                               initialize=torch.nn.init.orthogonal_,\n",
    "                               activation=ActivationFunctions[args.activation],\n",
    "                               device=args.device)  # create representation\n",
    "\n",
    "    # prepare policy\n",
    "    from xuance.torch.policies import Gaussian_AC_Policy\n",
    "    policy = Gaussian_AC_Policy(action_space=args.action_space,\n",
    "                                representation=representation,\n",
    "                                actor_hidden_size=args.actor_hidden_size,\n",
    "                                critic_hidden_size=args.critic_hidden_size,\n",
    "                                normalize=None,\n",
    "                                initialize=torch.nn.init.orthogonal_,\n",
    "                                activation=ActivationFunctions[args.activation],\n",
    "                                device=args.device)  # create Gaussian policy\n",
    "\n",
    "    # prepare agent\n",
    "    from xuance.torch.agents import PPOCLIP_Agent, get_total_iters\n",
    "    optimizer = torch.optim.Adam(policy.parameters(), args.learning_rate, eps=1e-5)  # create optimizer\n",
    "    lr_scheduler = torch.optim.lr_scheduler.LinearLR(optimizer, start_factor=1.0, end_factor=0.0,\n",
    "                                                    total_iters=get_total_iters(agent_name, args))  # for learning rate decay\n",
    "    agent = PPOCLIP_Agent(config=args,\n",
    "                          envs=envs,\n",
    "                          policy=policy,\n",
    "                          optimizer=optimizer,\n",
    "                          scheduler=lr_scheduler,\n",
    "                          device=args.device)  # create a PPO agent\n",
    "\n",
    "    # start running\n",
    "    envs.reset()  # reset the environments\n",
    "    if args.benchmark:  # run benchmark\n",
    "        def env_fn():  # for creating testing environments\n",
    "            args_test = deepcopy(args)\n",
    "            args_test.parallels = args_test.test_episode  # set number of testing environments.\n",
    "            return make_envs(args_test)  # make testing environments.\n",
    "\n",
    "        train_steps = args.running_steps // n_envs  # calculate the total running steps.\n",
    "        eval_interval = args.eval_interval // n_envs  # calculate the number of training steps per epoch.\n",
    "        test_episode = args.test_episode  # calculate the number of testing episodes.\n",
    "        num_epoch = int(train_steps / eval_interval)  # calculate the number of epochs.\n",
    "\n",
    "        test_scores = agent.test(env_fn, test_episode)  # first test\n",
    "        best_scores_info = {\"mean\": np.mean(test_scores),  # average episode scores.\n",
    "                            \"std\": np.std(test_scores),  # the standard deviation of the episode scores.\n",
    "                            \"step\": agent.current_step}  # current step\n",
    "        for i_epoch in range(num_epoch):  # begin benchmarking\n",
    "            print(\"Epoch: %d/%d:\" % (i_epoch, num_epoch))\n",
    "            agent.train(eval_interval)  # train the model for some steps\n",
    "            test_scores = agent.test(env_fn, test_episode)  # test the model for some episodes\n",
    "\n",
    "            if np.mean(test_scores) > best_scores_info[\"mean\"]:  # if current score is better than history\n",
    "                best_scores_info = {\"mean\": np.mean(test_scores),\n",
    "                                    \"std\": np.std(test_scores),\n",
    "                                    \"step\": agent.current_step}\n",
    "                # save best model\n",
    "                agent.save_model(model_name=\"best_model.pth\")\n",
    "        # end benchmarking\n",
    "        print(\"Best Model Score: %.2f, std=%.2f\" % (best_scores_info[\"mean\"], best_scores_info[\"std\"]))\n",
    "    else:\n",
    "        if not args.test:  # train the model without testing\n",
    "            n_train_steps = args.running_steps // n_envs  # calculate the total steps of training\n",
    "            agent.train(n_train_steps)  # train the model directly.\n",
    "            agent.save_model(\"final_train_model.pth\")  # save the final model file.\n",
    "            print(\"Finish training!\")\n",
    "        else:  # test a trained model\n",
    "            def env_fn():\n",
    "                args_test = deepcopy(args)\n",
    "                args_test.parallels = 1\n",
    "                return make_envs(args_test)\n",
    "\n",
    "            agent.render = True\n",
    "            agent.load_model(agent.model_dir_load, args.seed)  # load the model file\n",
    "            scores = agent.test(env_fn, args.test_episode)  # test the model\n",
    "            print(f\"Mean Score: {np.mean(scores)}, Std: {np.std(scores)}\")\n",
    "            print(\"Finish testing.\")\n",
    "\n",
    "    # the end.\n",
    "    envs.close()  # close the environment\n",
    "    agent.finish()  # finish the example"
   ],
   "metadata": {
    "collapsed": false,
    "ExecuteTime": {
     "start_time": "2024-03-14T13:57:15.744300100Z"
    }
   },
   "id": "1fdbc454ececfc18"
  },
  {
   "cell_type": "code",
   "execution_count": null,
   "outputs": [],
   "source": [
    "# run(args)\n",
    "envs = make_envs(args)  # create simulation environments\n",
    "envs.action_space.n"
   ],
   "metadata": {
    "collapsed": false,
    "ExecuteTime": {
     "start_time": "2024-03-14T13:57:15.746304100Z"
    }
   },
   "id": "c1622ded38f8d94"
  },
  {
   "cell_type": "code",
   "execution_count": null,
   "outputs": [],
   "source": [
    "import xuance\n",
    "runner = xuance.get_runner(method='dqn',\n",
    "                           env='Box2D',\n",
    "                           env_id='LunarLander-v2',\n",
    "                           is_test=True,\n",
    "                           config_path=\"./configs/basic.yaml\")\n",
    "print(type(runner))\n",
    "runner.run()"
   ],
   "metadata": {
    "collapsed": false,
    "ExecuteTime": {
     "start_time": "2024-03-14T13:57:15.747306600Z"
    }
   },
   "id": "21687807e0a35f4"
  },
  {
   "cell_type": "code",
   "execution_count": null,
   "outputs": [],
   "source": [
    "import xuance\n",
    "runner = xuance.get_runner(method='MPE',\n",
    "                           env='mpe',\n",
    "                           env_id='simple_spread_v3',\n",
    "                           is_test=True,\n",
    "                           config_path=\"./configs/lular.yaml\")\n",
    "print(type(runner))\n",
    "runner.run()"
   ],
   "metadata": {
    "collapsed": false,
    "ExecuteTime": {
     "start_time": "2024-03-14T13:57:15.748305400Z"
    }
   },
   "id": "b8a93ee5f10c9636"
  }
 ],
 "metadata": {
  "kernelspec": {
   "display_name": "Python 3",
   "language": "python",
   "name": "python3"
  },
  "language_info": {
   "codemirror_mode": {
    "name": "ipython",
    "version": 2
   },
   "file_extension": ".py",
   "mimetype": "text/x-python",
   "name": "python",
   "nbconvert_exporter": "python",
   "pygments_lexer": "ipython2",
   "version": "2.7.6"
  }
 },
 "nbformat": 4,
 "nbformat_minor": 5
}
