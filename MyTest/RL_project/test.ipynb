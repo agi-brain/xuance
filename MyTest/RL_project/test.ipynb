{
 "cells": [
  {
   "cell_type": "code",
   "execution_count": 1,
   "outputs": [
    {
     "name": "stdout",
     "output_type": "stream",
     "text": [
      "pygame 2.1.0 (SDL 2.0.16, Python 3.9.18)\n",
      "Hello from the pygame community. https://www.pygame.org/contribute.html\n"
     ]
    }
   ],
   "source": [
    "from BlackjackEnv import BlackjackEnv\n",
    "import numpy as np\n",
    "import argparse\n",
    "from agent import DQN_Agent\n",
    "\n",
    "import os\n",
    "from copy import deepcopy\n",
    "import numpy as np\n",
    "import torch.optim\n",
    "from xuance import get_arguments\n",
    "from xuance.common import space2shape\n",
    "from xuance.environment import make_envs\n",
    "from xuance.torch.utils.operations import set_seed\n",
    "from xuance.torch.utils import ActivationFunctions"
   ],
   "metadata": {
    "collapsed": false,
    "ExecuteTime": {
     "end_time": "2024-05-30T11:12:08.674226900Z",
     "start_time": "2024-05-30T11:12:05.666815800Z"
    }
   },
   "id": "330c198411004d63"
  },
  {
   "cell_type": "code",
   "execution_count": 2,
   "outputs": [],
   "source": [
    "def parse_args():\n",
    "    parser = argparse.ArgumentParser(\"Run a demo.\")\n",
    "    parser.add_argument(\"--method\", type=str, default=\"dqn\")\n",
    "    parser.add_argument(\"--env\", type=str, default=\"BlackjackEnv\")\n",
    "    parser.add_argument(\"--env-id\", type=str, default=\"blackjack-v0\")\n",
    "    parser.add_argument(\"--test\", type=int, default=0)\n",
    "    parser.add_argument(\"--benchmark\", type=int, default=1)\n",
    "    parser.add_argument(\"--device\", type=str, default=\"cuda:0\")\n",
    "    parser.add_argument(\"--config\", type=str, default=\"./configs/test_blackjack.yaml\")\n",
    "    return parser.parse_args()"
   ],
   "metadata": {
    "collapsed": false,
    "ExecuteTime": {
     "end_time": "2024-05-30T11:12:08.848677400Z",
     "start_time": "2024-05-30T11:12:08.833677300Z"
    }
   },
   "id": "7d7f520da0a5eff"
  },
  {
   "cell_type": "code",
   "execution_count": 3,
   "outputs": [],
   "source": [
    "def sample(env, timestep_max, number,gamma,V_table):\n",
    "    ''' 采样函数,策略Pi,限制最长时间步timestep_max,总共采样序列数number '''\n",
    "    episodes = []\n",
    "    for i in range(number):\n",
    "        episode = []\n",
    "        timestep = 0\n",
    "        obs,info=env.reset()\n",
    "        # 当前状态为终止状态或者时间步太长时,一次采样结束\n",
    "        obs=obs.astype(int)\n",
    "        terminated, truncated = False, False\n",
    "\n",
    "        # 在状态s下根据策略选择动作\n",
    "        while not terminated and timestep <= timestep_max:\n",
    "            a = eps_greedy(env.action_space, 0.99*(number-i)/number, V_table,obs)\n",
    "            next_obs, reward, terminated, truncated, info = env.step(a)\n",
    "            next_obs = next_obs.astype(int)\n",
    "            V_table[int(obs[0][0])][int(obs[0][1])][int(obs[0][2])] +=gamma**timestep * reward\n",
    "            episode.append([obs, a, reward, next_obs])  # 把(obs, a, reward, next_obs)元组放入序列中\n",
    "            obs = next_obs  # s_next变成当前状态,开始接下来的循环\n",
    "            timestep += 1\n",
    "        episodes.append(episode)\n",
    "    return episodes"
   ],
   "metadata": {
    "collapsed": false,
    "ExecuteTime": {
     "end_time": "2024-05-30T11:12:16.662732Z",
     "start_time": "2024-05-30T11:12:16.642733200Z"
    }
   },
   "id": "32d1872d0e015657"
  },
  {
   "cell_type": "code",
   "execution_count": 4,
   "outputs": [],
   "source": [
    "def MC(episodes, V_table, gamma,l_rate):\n",
    "    for episode in episodes:\n",
    "        G = 0\n",
    "        for i in range(len(episode) - 1, -1, -1):  #一个序列从后往前计算\n",
    "            [obs, a, r, obs_next] = episode[i]\n",
    "            index_value=V_table[int(obs[0][0])][int(obs[0][1])][int(obs[0][2])]\n",
    "            G = r + gamma * G\n",
    "            V_table[int(obs[0][0])][int(obs[0][1])][int(obs[0][2])] = index_value+ (G - index_value) * l_rate"
   ],
   "metadata": {
    "collapsed": false,
    "ExecuteTime": {
     "end_time": "2024-05-30T11:12:25.048422500Z",
     "start_time": "2024-05-30T11:12:25.039415700Z"
    }
   },
   "id": "30f278e3e749058"
  },
  {
   "cell_type": "code",
   "execution_count": 5,
   "outputs": [],
   "source": [
    "def eps_greedy(action_space,epsilon,V_table,obs)->int:#返回一个动作\n",
    "    obs=obs[0].astype(int)\n",
    "    if np.random.rand() < epsilon:\n",
    "        return action_space.sample()\n",
    "    else:\n",
    "        #如果动作为0，则在+1~+10中取所有后选状态的平均值;动作为1则取当前状态的值\n",
    "        for action in range(action_space.n):\n",
    "            if action==0:#代表的意思是要所有的（在2-10以内）无A和有A，两类加起来平均\n",
    "                action_0=np.sum(V_table[obs[0]][obs[1]+2:obs[1]+10][0])+V_table[obs[0]][obs[1]][1]\n",
    "                action_0/=10\n",
    "\n",
    "            elif action==1:\n",
    "                action_1=V_table[obs[0]][obs[1]][obs[2]]\n",
    "        if action_0> action_1:\n",
    "            return 0\n",
    "        return 1"
   ],
   "metadata": {
    "collapsed": false,
    "ExecuteTime": {
     "end_time": "2024-05-30T11:12:37.466548800Z",
     "start_time": "2024-05-30T11:12:37.450548700Z"
    }
   },
   "id": "3efe7697941723c2"
  },
  {
   "cell_type": "code",
   "execution_count": 6,
   "outputs": [],
   "source": [
    "\n",
    "def MC_test(V_table,env,number):\n",
    "    obs,info = env.reset()\n",
    "    obs = obs.astype(int)\n",
    "\n",
    "    res=[]\n",
    "    episodes=[]\n",
    "    for i in range(number):\n",
    "        r=0\n",
    "        episode=[]\n",
    "        terminated, truncated = False, False\n",
    "        while not terminated :\n",
    "            a = eps_greedy(env.action_space, 0, V_table, obs)\n",
    "            next_obs, reward, terminated, truncated, info = env.step(a)\n",
    "            next_obs = next_obs.astype(int)\n",
    "            episode.append([obs])\n",
    "            obs = next_obs  # s_next变成当前状态,开始接下来的循环\n",
    "            r+=reward\n",
    "        res.append(r)\n",
    "        episodes.append(episode)\n",
    "        obs,info=env.reset()\n",
    "    return res,episodes"
   ],
   "metadata": {
    "collapsed": false,
    "ExecuteTime": {
     "end_time": "2024-05-30T11:12:43.837663100Z",
     "start_time": "2024-05-30T11:12:43.821661500Z"
    }
   },
   "id": "97008bd500d7a9f8"
  },
  {
   "cell_type": "code",
   "execution_count": 7,
   "outputs": [
    {
     "name": "stderr",
     "output_type": "stream",
     "text": [
      "usage: Run a demo. [-h] [--method METHOD] [--env ENV] [--env-id ENV_ID]\n",
      "                   [--test TEST] [--benchmark BENCHMARK] [--device DEVICE]\n",
      "                   [--config CONFIG]\n",
      "Run a demo.: error: unrecognized arguments: -f C:\\Users\\20230921a\\AppData\\Roaming\\jupyter\\runtime\\kernel-33c4531a-3426-44c9-877f-575b96a7b322.json\n"
     ]
    },
    {
     "ename": "SystemExit",
     "evalue": "2",
     "output_type": "error",
     "traceback": [
      "An exception has occurred, use %tb to see the full traceback.\n",
      "\u001B[1;31mSystemExit\u001B[0m\u001B[1;31m:\u001B[0m 2\n"
     ]
    },
    {
     "name": "stderr",
     "output_type": "stream",
     "text": [
      "C:\\Users\\20230921a\\.conda\\envs\\xuance\\lib\\site-packages\\IPython\\core\\interactiveshell.py:3534: UserWarning: To exit: use 'exit', 'quit', or Ctrl-D.\n",
      "  warn(\"To exit: use 'exit', 'quit', or Ctrl-D.\", stacklevel=1)\n"
     ]
    }
   ],
   "source": [
    "\n",
    "def run(args):\n",
    "    agent_name = args.agent  # get the name of Agent.\n",
    "    set_seed(args.seed)  # set random seed.\n",
    "\n",
    "    # prepare directories for results\n",
    "    args.model_dir = os.path.join(os.getcwd(), args.model_dir, args.env_id)  # the path for saved model.\n",
    "    args.log_dir = os.path.join(args.log_dir, args.env_id)  # the path for logger file.\n",
    "\n",
    "    # build environments\n",
    "    env = make_envs(args)  # create simulation environments\n",
    "    args.observation_space = env.observation_space  # get observation space\n",
    "    args.action_space = env.action_space  # get action space\n",
    "    gamma = 1.0  # 没有折扣\n",
    "    l_rate=0.01\n",
    "    V_table=np.zeros((12,30,2)) #一个12*30*2的表格来存储状态价值\n",
    "    # 采样5次,每个序列最长不超过10步\n",
    "    episodes = sample(env, 20, 5000, gamma,V_table)\n",
    "    print('第一条序列\\n', episodes[0])\n",
    "    MC(episodes, V_table, gamma,l_rate=l_rate)\n",
    "    res,ep=MC_test(V_table,env,10)\n",
    "    print(res)\n",
    "    print(ep,end='\\n')\n",
    "if __name__ == '__main__':\n",
    "    parser = parse_args()\n",
    "    args = get_arguments(method=parser.method,\n",
    "                         env=parser.env,\n",
    "                         env_id=parser.env_id,\n",
    "                         config_path=parser.config,\n",
    "                         parser_args=parser)\n",
    "    run(args)\n"
   ],
   "metadata": {
    "collapsed": false,
    "ExecuteTime": {
     "end_time": "2024-05-30T11:12:52.100222900Z",
     "start_time": "2024-05-30T11:12:52.083222300Z"
    }
   },
   "id": "d5b7e281487d6b88"
  },
  {
   "cell_type": "code",
   "execution_count": null,
   "outputs": [],
   "source": [],
   "metadata": {
    "collapsed": false
   },
   "id": "9bc05313c49228ec"
  }
 ],
 "metadata": {
  "kernelspec": {
   "display_name": "Python 3",
   "language": "python",
   "name": "python3"
  },
  "language_info": {
   "codemirror_mode": {
    "name": "ipython",
    "version": 2
   },
   "file_extension": ".py",
   "mimetype": "text/x-python",
   "name": "python",
   "nbconvert_exporter": "python",
   "pygments_lexer": "ipython2",
   "version": "2.7.6"
  }
 },
 "nbformat": 4,
 "nbformat_minor": 5
}
