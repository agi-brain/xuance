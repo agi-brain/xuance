{
 "cells": [
  {
   "cell_type": "code",
   "execution_count": 2,
   "id": "initial_id",
   "metadata": {
    "collapsed": true,
    "ExecuteTime": {
     "end_time": "2024-04-18T08:43:12.458686300Z",
     "start_time": "2024-04-18T08:43:12.452687400Z"
    }
   },
   "outputs": [
    {
     "data": {
      "text/plain": "['E:\\\\编程工具\\\\pycharm\\\\PyCharm 2023.2.1\\\\plugins\\\\python\\\\helpers-pro\\\\jupyter_debug',\n 'E:\\\\编程工具\\\\pycharm\\\\PyCharm 2023.2.1\\\\plugins\\\\python\\\\helpers\\\\pydev',\n 'E:\\\\project\\\\github\\\\xuance\\\\InforMARL\\\\InforMARL-main\\\\onpolicy\\\\scripts',\n 'E:\\\\project\\\\github\\\\xuance',\n 'C:\\\\Users\\\\20230921a\\\\.conda\\\\envs\\\\xuance\\\\python39.zip',\n 'C:\\\\Users\\\\20230921a\\\\.conda\\\\envs\\\\xuance\\\\DLLs',\n 'C:\\\\Users\\\\20230921a\\\\.conda\\\\envs\\\\xuance\\\\lib',\n 'C:\\\\Users\\\\20230921a\\\\.conda\\\\envs\\\\xuance',\n '',\n 'C:\\\\Users\\\\20230921a\\\\AppData\\\\Roaming\\\\Python\\\\Python39\\\\site-packages',\n 'C:\\\\Users\\\\20230921a\\\\.conda\\\\envs\\\\xuance\\\\lib\\\\site-packages',\n 'C:\\\\Users\\\\20230921a\\\\.conda\\\\envs\\\\xuance\\\\lib\\\\site-packages\\\\win32',\n 'C:\\\\Users\\\\20230921a\\\\.conda\\\\envs\\\\xuance\\\\lib\\\\site-packages\\\\win32\\\\lib',\n 'C:\\\\Users\\\\20230921a\\\\.conda\\\\envs\\\\xuance\\\\lib\\\\site-packages\\\\Pythonwin',\n 'E:\\\\project\\\\github\\\\xuance\\\\InforMARL\\\\InforMARL-main\\\\onpolicy\\\\scripts',\n 'E:\\\\project\\\\github\\\\xuance\\\\InforMARL\\\\InforMARL-main\\\\onpolicy\\\\scripts']"
     },
     "execution_count": 2,
     "metadata": {},
     "output_type": "execute_result"
    }
   ],
   "source": [
    "import os, sys\n",
    "sys.path.append(os.path.abspath(os.getcwd()))\n",
    "sys.path"
   ]
  }
 ],
 "metadata": {
  "kernelspec": {
   "display_name": "Python 3",
   "language": "python",
   "name": "python3"
  },
  "language_info": {
   "codemirror_mode": {
    "name": "ipython",
    "version": 2
   },
   "file_extension": ".py",
   "mimetype": "text/x-python",
   "name": "python",
   "nbconvert_exporter": "python",
   "pygments_lexer": "ipython2",
   "version": "2.7.6"
  }
 },
 "nbformat": 4,
 "nbformat_minor": 5
}
